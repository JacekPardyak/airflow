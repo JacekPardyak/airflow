{
 "cells": [
  {
   "cell_type": "code",
   "execution_count": 5,
   "id": "f41945df-236e-428b-81a0-270c527bd46f",
   "metadata": {},
   "outputs": [
    {
     "name": "stdout",
     "output_type": "stream",
     "text": [
      "Looking in indexes: https://test.pypi.org/simple/\n",
      "Requirement already satisfied: inx in c:\\users\\jacek\\.julia\\conda\\3\\x86_64\\lib\\site-packages (0.0.35)\n",
      "Requirement already satisfied: validators in c:\\users\\jacek\\.julia\\conda\\3\\x86_64\\lib\\site-packages (0.22.0)\n",
      "Collecting geopandas\n",
      "  Obtaining dependency information for geopandas from https://files.pythonhosted.org/packages/27/27/2687abaa2ac02b5814e2929a5033da1e5d132c19a904dc56f77f63fd6eb9/geopandas-0.14.0-py3-none-any.whl.metadata\n",
      "  Downloading geopandas-0.14.0-py3-none-any.whl.metadata (1.5 kB)\n",
      "Collecting fiona>=1.8.21 (from geopandas)\n",
      "  Obtaining dependency information for fiona>=1.8.21 from https://files.pythonhosted.org/packages/8a/61/623b99b4738c27f4e4f5e5f255216a646e7e6e9cd5e22b108dfca8095dfc/Fiona-1.9.4.post1-cp310-cp310-win_amd64.whl.metadata\n",
      "  Downloading Fiona-1.9.4.post1-cp310-cp310-win_amd64.whl.metadata (50 kB)\n",
      "     ---------------------------------------- 0.0/50.6 kB ? eta -:--:--\n",
      "     -------- ------------------------------- 10.2/50.6 kB ? eta -:--:--\n",
      "     ------------------------------ ------- 41.0/50.6 kB 487.6 kB/s eta 0:00:01\n",
      "     -------------------------------------- 50.6/50.6 kB 518.0 kB/s eta 0:00:00\n",
      "Requirement already satisfied: packaging in c:\\users\\jacek\\.julia\\conda\\3\\x86_64\\lib\\site-packages (from geopandas) (23.1)\n",
      "Collecting pandas>=1.4.0 (from geopandas)\n",
      "  Obtaining dependency information for pandas>=1.4.0 from https://files.pythonhosted.org/packages/ce/cd/a7c2cbffe2afff975349e60b14b63a448162145a7acac8ba12ddc2ed78a8/pandas-2.1.1-cp310-cp310-win_amd64.whl.metadata\n",
      "  Downloading pandas-2.1.1-cp310-cp310-win_amd64.whl.metadata (18 kB)\n",
      "Collecting pyproj>=3.3.0 (from geopandas)\n",
      "  Obtaining dependency information for pyproj>=3.3.0 from https://files.pythonhosted.org/packages/89/8f/27350c8fba71a37cd0d316f100fbd96bf139cc2b5ff1ab0dcbc7ac64010a/pyproj-3.6.1-cp310-cp310-win_amd64.whl.metadata\n",
      "  Downloading pyproj-3.6.1-cp310-cp310-win_amd64.whl.metadata (31 kB)\n",
      "Collecting shapely>=1.8.0 (from geopandas)\n",
      "  Downloading shapely-2.0.1-cp310-cp310-win_amd64.whl (1.4 MB)\n",
      "     ---------------------------------------- 0.0/1.4 MB ? eta -:--:--\n",
      "     -------------- ------------------------- 0.5/1.4 MB 15.2 MB/s eta 0:00:01\n",
      "     -------------------------------------- - 1.3/1.4 MB 16.8 MB/s eta 0:00:01\n",
      "     ---------------------------------------- 1.4/1.4 MB 10.8 MB/s eta 0:00:00\n",
      "Requirement already satisfied: attrs>=19.2.0 in c:\\users\\jacek\\.julia\\conda\\3\\x86_64\\lib\\site-packages (from fiona>=1.8.21->geopandas) (23.1.0)\n",
      "Requirement already satisfied: certifi in c:\\users\\jacek\\.julia\\conda\\3\\x86_64\\lib\\site-packages (from fiona>=1.8.21->geopandas) (2023.7.22)\n",
      "Collecting click~=8.0 (from fiona>=1.8.21->geopandas)\n",
      "  Obtaining dependency information for click~=8.0 from https://files.pythonhosted.org/packages/00/2e/d53fa4befbf2cfa713304affc7ca780ce4fc1fd8710527771b58311a3229/click-8.1.7-py3-none-any.whl.metadata\n",
      "  Downloading click-8.1.7-py3-none-any.whl.metadata (3.0 kB)\n",
      "Collecting click-plugins>=1.0 (from fiona>=1.8.21->geopandas)\n",
      "  Downloading click_plugins-1.1.1-py2.py3-none-any.whl (7.5 kB)\n",
      "Collecting cligj>=0.5 (from fiona>=1.8.21->geopandas)\n",
      "  Downloading cligj-0.7.2-py3-none-any.whl (7.1 kB)\n",
      "Requirement already satisfied: six in c:\\users\\jacek\\.julia\\conda\\3\\x86_64\\lib\\site-packages (from fiona>=1.8.21->geopandas) (1.16.0)\n",
      "Collecting numpy>=1.22.4 (from pandas>=1.4.0->geopandas)\n",
      "  Obtaining dependency information for numpy>=1.22.4 from https://files.pythonhosted.org/packages/cc/05/ef9fc04adda45d537619ea956bc33489f50a46badc949c4280d8309185ec/numpy-1.26.0-cp310-cp310-win_amd64.whl.metadata\n",
      "  Downloading numpy-1.26.0-cp310-cp310-win_amd64.whl.metadata (61 kB)\n",
      "     ---------------------------------------- 0.0/61.1 kB ? eta -:--:--\n",
      "     ---------------------------------------- 61.1/61.1 kB 3.2 MB/s eta 0:00:00\n",
      "Requirement already satisfied: python-dateutil>=2.8.2 in c:\\users\\jacek\\.julia\\conda\\3\\x86_64\\lib\\site-packages (from pandas>=1.4.0->geopandas) (2.8.2)\n",
      "Requirement already satisfied: pytz>=2020.1 in c:\\users\\jacek\\.julia\\conda\\3\\x86_64\\lib\\site-packages (from pandas>=1.4.0->geopandas) (2023.3.post1)\n",
      "Collecting tzdata>=2022.1 (from pandas>=1.4.0->geopandas)\n",
      "  Downloading tzdata-2023.3-py2.py3-none-any.whl (341 kB)\n",
      "     ---------------------------------------- 0.0/341.8 kB ? eta -:--:--\n",
      "     ------------------------------------- 341.8/341.8 kB 22.1 MB/s eta 0:00:00\n",
      "Requirement already satisfied: colorama in c:\\users\\jacek\\.julia\\conda\\3\\x86_64\\lib\\site-packages (from click~=8.0->fiona>=1.8.21->geopandas) (0.4.6)\n",
      "Downloading geopandas-0.14.0-py3-none-any.whl (1.1 MB)\n",
      "   ---------------------------------------- 0.0/1.1 MB ? eta -:--:--\n",
      "   ---------------------------------------  1.1/1.1 MB 35.0 MB/s eta 0:00:01\n",
      "   ---------------------------------------- 1.1/1.1 MB 17.6 MB/s eta 0:00:00\n",
      "Downloading Fiona-1.9.4.post1-cp310-cp310-win_amd64.whl (22.7 MB)\n",
      "   ---------------------------------------- 0.0/22.7 MB ? eta -:--:--\n",
      "   -- ------------------------------------- 1.5/22.7 MB 47.6 MB/s eta 0:00:01\n",
      "   ------ --------------------------------- 3.7/22.7 MB 46.7 MB/s eta 0:00:01\n",
      "   ---------- ----------------------------- 5.7/22.7 MB 45.7 MB/s eta 0:00:01\n",
      "   ------------- -------------------------- 7.6/22.7 MB 44.3 MB/s eta 0:00:01\n",
      "   ----------------- ---------------------- 9.9/22.7 MB 48.7 MB/s eta 0:00:01\n",
      "   --------------------- ------------------ 12.1/22.7 MB 50.4 MB/s eta 0:00:01\n",
      "   ---------------------- ----------------- 12.6/22.7 MB 43.5 MB/s eta 0:00:01\n",
      "   -------------------------- ------------- 14.8/22.7 MB 43.7 MB/s eta 0:00:01\n",
      "   ----------------------------- ---------- 17.0/22.7 MB 43.7 MB/s eta 0:00:01\n",
      "   ---------------------------------- ----- 19.6/22.7 MB 43.7 MB/s eta 0:00:01\n",
      "   ---------------------------------------  22.4/22.7 MB 54.7 MB/s eta 0:00:01\n",
      "   ---------------------------------------  22.7/22.7 MB 46.9 MB/s eta 0:00:01\n",
      "   ---------------------------------------  22.7/22.7 MB 46.9 MB/s eta 0:00:01\n",
      "   ---------------------------------------  22.7/22.7 MB 46.9 MB/s eta 0:00:01\n",
      "   ---------------------------------------  22.7/22.7 MB 46.9 MB/s eta 0:00:01\n",
      "   ---------------------------------------- 22.7/22.7 MB 22.6 MB/s eta 0:00:00\n",
      "Downloading pandas-2.1.1-cp310-cp310-win_amd64.whl (10.7 MB)\n",
      "   ---------------------------------------- 0.0/10.7 MB ? eta -:--:--\n",
      "   ------- -------------------------------- 2.0/10.7 MB 64.7 MB/s eta 0:00:01\n",
      "   ----------------- ---------------------- 4.8/10.7 MB 61.3 MB/s eta 0:00:01\n",
      "   ------------------------------ --------- 8.0/10.7 MB 73.7 MB/s eta 0:00:01\n",
      "   ---------------------------------------  10.7/10.7 MB 65.6 MB/s eta 0:00:01\n",
      "   ---------------------------------------  10.7/10.7 MB 65.6 MB/s eta 0:00:01\n",
      "   ---------------------------------------- 10.7/10.7 MB 40.9 MB/s eta 0:00:00\n",
      "Downloading pyproj-3.6.1-cp310-cp310-win_amd64.whl (6.1 MB)\n",
      "   ---------------------------------------- 0.0/6.1 MB ? eta -:--:--\n",
      "   ---------------- ----------------------- 2.5/6.1 MB 158.7 MB/s eta 0:00:01\n",
      "   ---------------------------------- ----- 5.2/6.1 MB 66.8 MB/s eta 0:00:01\n",
      "   ---------------------------------------  6.1/6.1 MB 77.9 MB/s eta 0:00:01\n",
      "   ---------------------------------------- 6.1/6.1 MB 39.0 MB/s eta 0:00:00\n",
      "Downloading click-8.1.7-py3-none-any.whl (97 kB)\n",
      "   ---------------------------------------- 0.0/97.9 kB ? eta -:--:--\n",
      "   ---------------------------------------- 97.9/97.9 kB ? eta 0:00:00\n",
      "Downloading numpy-1.26.0-cp310-cp310-win_amd64.whl (15.8 MB)\n",
      "   ---------------------------------------- 0.0/15.8 MB ? eta -:--:--\n",
      "   ------ --------------------------------- 2.6/15.8 MB 80.6 MB/s eta 0:00:01\n",
      "   -------------- ------------------------- 5.8/15.8 MB 74.4 MB/s eta 0:00:01\n",
      "   -------------------- ------------------- 8.1/15.8 MB 64.8 MB/s eta 0:00:01\n",
      "   ---------------------------- ----------- 11.2/15.8 MB 65.6 MB/s eta 0:00:01\n",
      "   ----------------------------------- ---- 14.2/15.8 MB 65.6 MB/s eta 0:00:01\n",
      "   ---------------------------------------  15.8/15.8 MB 59.5 MB/s eta 0:00:01\n",
      "   ---------------------------------------  15.8/15.8 MB 59.5 MB/s eta 0:00:01\n",
      "   ---------------------------------------  15.8/15.8 MB 59.5 MB/s eta 0:00:01\n",
      "   ---------------------------------------- 15.8/15.8 MB 29.7 MB/s eta 0:00:00\n",
      "Installing collected packages: tzdata, pyproj, numpy, click, shapely, pandas, cligj, click-plugins, fiona, geopandas\n",
      "Successfully installed click-8.1.7 click-plugins-1.1.1 cligj-0.7.2 fiona-1.9.4.post1 geopandas-0.14.0 numpy-1.26.0 pandas-2.1.1 pyproj-3.6.1 shapely-2.0.1 tzdata-2023.3\n"
     ]
    }
   ],
   "source": [
    "!pip install --index-url https://test.pypi.org/simple/ --no-deps inx\n",
    "!pip install validators\n",
    "!pip install geopandas "
   ]
  },
  {
   "cell_type": "code",
   "execution_count": 3,
   "id": "2790dcb1-b848-448e-823d-66f847a53f12",
   "metadata": {},
   "outputs": [
    {
     "data": {
      "image/svg+xml": [
       "<svg xmlns=\"http://www.w3.org/2000/svg\" id=\"Vrstva_1\" data-name=\"Vrstva 1\" viewBox=\"0 0 1324.25 412.98\"><defs><style>.cls-1{fill:#fec905;}.cls-2{fill:#e21c84;}.cls-3{fill:#0f9c5a;}</style></defs><rect class=\"cls-1\" x=\"211.63\" y=\"198.82\" width=\"24.09\" height=\"23.6\"/><rect class=\"cls-2\" x=\"249.53\" y=\"240.01\" width=\"24.09\" height=\"23.6\"/><path class=\"cls-3\" d=\"M471.5,267c-31.14,0-57.42-22.14-57.42-57.06s27.36-56.34,58.86-56.34c14.22,0,29.34,4.14,38.34,11v20c-9-7.56-20.16-13.32-36.18-13.32-22.5,0-38.16,14.76-38.16,39.6,0,24.3,15.3,39.6,36.9,39.6,8.28,0,15.3-1.62,20.88-4.5V224.9H475.64V208.7h40.14v47.7C509.66,258.92,492.74,267,471.5,267Z\"/><path class=\"cls-3\" d=\"M601.1,225.62H549.26c-.54,11.88,5.58,25.38,26.46,25.38,8.82,0,19.26-4,25.2-9.18v15.12c-7.38,5.76-18.72,9.18-31.68,9.18-23.94,0-40.68-17.46-40.68-41.58,0-24.84,19.08-40.5,39.24-40.5,19.8,0,34.56,12.42,34.56,30.78A49.41,49.41,0,0,1,601.1,225.62Zm-32.76-28.26c-8.82,0-16.38,5-18.18,17.1h33.3C585.26,205.1,579.14,197.36,568.34,197.36Z\"/><path class=\"cls-3\" d=\"M654.37,266.84c-25.19,0-43.73-18.18-43.73-41.76,0-23.4,18.54-41.76,43.73-41.76,25,0,43.56,18.36,43.56,41.76C697.93,248.66,679.39,266.84,654.37,266.84Zm0-68.22c-14,0-23.21,10.8-23.21,26.46,0,15.84,9.36,26.46,23.21,26.46s23-10.62,23-26.46C677.41,209.42,668.23,198.62,654.37,198.62Z\"/><path class=\"cls-3\" d=\"M751,224.72H732V264H710V156h41c25.92,0,37.44,15.84,37.44,34.38C788.47,209.06,777,224.72,751,224.72Zm-3.6-53.1H732v37.44h15.48c14.22,0,19.26-8.46,19.26-18.72C766.69,180.26,761.65,171.62,747.43,171.62Z\"/><path class=\"cls-3\" d=\"M858,264l-.72-12.42c-6.48,9.54-18,14.58-29,14.58-21,0-36.53-17.64-36.53-41s15.48-41,36.53-41c11,0,22.5,5,29,14.58L858,186.2h18.9V264Zm-23.22-64.44c-12.24,0-22.14,9.54-22.14,25.56s9.9,25.56,22.14,25.56,22.14-9.54,22.14-25.56S847,199.52,834.73,199.52Z\"/><path class=\"cls-3\" d=\"M949.57,264v-43c0-15.12-5.22-20.16-14.76-20.16-9.9,0-20.7,9-20.7,19.8V264H893.24V186.2h19.07l.9,14.4C918.43,190.7,930.13,184,942,184c20.7,0,28.44,14.4,28.44,33.66V264Z\"/><path class=\"cls-3\" d=\"M1048.39,264l-.72-12.42c-6.48,9.54-18,14.58-29,14.58-21.06,0-36.54-17.64-36.54-41s15.48-41,36.54-41c10.44,0,21.06,4.32,27.72,12.78V156h20.88V264Zm-23.22-64.44c-12.24,0-22.14,9.54-22.14,25.56s9.9,25.56,22.14,25.56,22.14-9.54,22.14-25.56S1037.41,199.52,1025.17,199.52Z\"/><path class=\"cls-3\" d=\"M1145.41,264l-.72-12.42c-6.48,9.54-18,14.58-29,14.58-21.06,0-36.54-17.64-36.54-41s15.48-41,36.54-41c11,0,22.5,5,29,14.58l.72-12.42h18.9V264Zm-23.22-64.44c-12.24,0-22.14,9.54-22.14,25.56s9.9,25.56,22.14,25.56,22.14-9.54,22.14-25.56S1134.43,199.52,1122.19,199.52Z\"/><path class=\"cls-3\" d=\"M1206.43,266.48a61.17,61.17,0,0,1-31.14-8.82l3.42-14.4c6.3,3.78,15.84,8.64,27.36,8.64,8.28,0,14-2.52,14-9,0-5.58-5.94-7.56-16.56-10.08-19.08-4.14-25.92-14.22-25.92-25.2,0-12.24,9.54-23.76,30.6-23.76,12.78,0,23.94,5.58,26.46,7l-3.42,13.68a45.3,45.3,0,0,0-22.5-6.48c-8.46,0-12.6,2.88-12.6,7.56,0,5.22,5.4,7.56,13.68,9.54,20.52,4.32,28.8,13.86,28.8,24.3C1238.65,256.22,1226.41,266.48,1206.43,266.48Z\"/><rect class=\"cls-3\" x=\"211.63\" y=\"134.2\" width=\"24.09\" height=\"50.02\"/><rect class=\"cls-3\" x=\"211.63\" y=\"236.95\" width=\"24.09\" height=\"50.02\"/><rect class=\"cls-3\" x=\"249.53\" y=\"175.39\" width=\"24.09\" height=\"50.02\"/><path class=\"cls-3\" d=\"M207.51,69.19c-76.34,0-138.45,62.11-138.45,138.45S131.17,346.1,207.51,346.1,346,284,346,207.64,283.85,69.19,207.51,69.19ZM321,207.64A112.84,112.84,0,0,1,311.51,253V162.32A112.92,112.92,0,0,1,321,207.64Zm-47.34,92.15V278.22H249.53V313a112.9,112.9,0,0,1-42,8.07c-3.53,0-7-.17-10.48-.49V175.33H172.94V315.7A113.44,113.44,0,1,1,287.42,127.19V287.44h.66A114.42,114.42,0,0,1,273.62,299.79Z\"/></svg>"
      ],
      "text/plain": [
       "<IPython.core.display.SVG object>"
      ]
     },
     "metadata": {},
     "output_type": "display_data"
    }
   ],
   "source": [
    "from IPython.display import SVG, display\n",
    "import requests\n",
    "input = \"https://raw.githubusercontent.com/geopandas/geopandas/main/doc/source/_static/logo/geopandas_logo.svg\"\n",
    "headers = {'User-Agent': 'CoolBot/0.0 (https://example.org/coolbot/; coolbot@example.org)'}\n",
    "r = requests.get(input, allow_redirects=True, headers=headers)\n",
    "path_to_file = \"logo.svg\"\n",
    "open(path_to_file, 'wb').write(r.content)\n",
    "\n",
    "display(SVG(filename = path_to_file))"
   ]
  },
  {
   "cell_type": "code",
   "execution_count": 19,
   "id": "1d8c75ea-3293-4354-b8d6-bd0052298ca1",
   "metadata": {},
   "outputs": [
    {
     "data": {
      "text/plain": [
       "'C:\\\\Users\\\\Jacek\\\\AppData\\\\Local\\\\Temp\\\\tmpjnmou630.dxf'"
      ]
     },
     "execution_count": 19,
     "metadata": {},
     "output_type": "execute_result"
    }
   ],
   "source": [
    "import validators\n",
    "import tempfile\n",
    "import requests\n",
    "import shutil\n",
    "import os\n",
    "import stat\n",
    "import subprocess\n",
    "from inx import extension\n",
    "import geopandas as gpd\n",
    "\n",
    "#logo = extension.run(input = \"https://raw.githubusercontent.com/JacekPardyak/inkscape.py/master/geopandas_logo.svg\",\n",
    "#              extension = \"dxf_outlines.py\",\n",
    "#              options = \"\",\n",
    "#              ext = \".dxf\")\n",
    "#logo = gpd.read_file(logo)\n",
    "#logo\n",
    "#logo.geometry.to_file(\"geopandas_linestring.shp\")\n",
    "#logo = gpd.read_file(\"geopandas_linestring.shp\")\n",
    "#logo.plot()\n",
    "\n",
    "def run_win(input, extension, options, ext):\n",
    "#input = \"https://raw.githubusercontent.com/JacekPardyak/inkscape.py/master/geopandas_logo.svg\"\n",
    "#extension = \"dxf_outlines.py\"\n",
    "#options = \"\"\n",
    "#ext = \".dxf\"    \n",
    "    input_file_path = tempfile.NamedTemporaryFile(suffix='.svg').name\n",
    "    if validators.url(input):\n",
    "        headers = {'User-Agent': 'INX bot)'}\n",
    "        r = requests.get(input, allow_redirects=True, headers=headers)\n",
    "        open(input_file_path, 'wb').write(r.content)\n",
    "    else:\n",
    "        shutil.copyfile(input, input_file_path)\n",
    "    path = subprocess.check_output([\"inkscape\", \"--system-data-directory\"]).decode().replace(\"\\n\", \"\")\n",
    "    inkscape_extension_path = path + \"\\\\extensions\\\\\" + extension\n",
    "    inkscape_extension_path\n",
    "    inkscape_python_home  = path.replace(\"\\\\share\\\\inkscape\", \"\") + \"\\\\bin\"\n",
    "    inkscape_python_home\n",
    "    output = tempfile.NamedTemporaryFile(suffix=ext).name\n",
    "    bat = tempfile.NamedTemporaryFile(suffix='.bat').name\n",
    "    bat\n",
    "    text = f\"@ECHO OFF \\n cd {inkscape_python_home} \\n python.exe \\\"{inkscape_extension_path}\\\" --output=\\\"{output}\\\" {options} \\\"{input_file_path}\\\"\\n\"\n",
    "    text\n",
    "    with open(bat, mode='w') as f:\n",
    "        f.write(text)\n",
    "#  st = os.stat(bat)\n",
    "#  os.chmod(bat, st.st_mode | stat.S_IXUSR | stat.S_IXGRP | stat.S_IXOTH)\n",
    "    subprocess.call([bat])\n",
    "    return output\n",
    "\n",
    "logo = run_win(input = \"https://raw.githubusercontent.com/JacekPardyak/inkscape.py/master/geopandas_logo.svg\",\n",
    "              extension = \"dxf_outlines.py\",\n",
    "              options = \"\",\n",
    "              ext = \".dxf\")"
   ]
  },
  {
   "cell_type": "code",
   "execution_count": null,
   "id": "4f115628-7244-4da3-a008-aa51caa39e12",
   "metadata": {},
   "outputs": [],
   "source": []
  }
 ],
 "metadata": {
  "kernelspec": {
   "display_name": "Python 3 (ipykernel)",
   "language": "python",
   "name": "python3"
  },
  "language_info": {
   "codemirror_mode": {
    "name": "ipython",
    "version": 3
   },
   "file_extension": ".py",
   "mimetype": "text/x-python",
   "name": "python",
   "nbconvert_exporter": "python",
   "pygments_lexer": "ipython3",
   "version": "3.10.12"
  }
 },
 "nbformat": 4,
 "nbformat_minor": 5
}
